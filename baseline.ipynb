{
 "cells": [
  {
   "cell_type": "code",
   "execution_count": 2,
   "metadata": {},
   "outputs": [],
   "source": [
    "import pandas as pd\n",
    "\n",
    "US = pd.read_csv('data/new_data/resultUS.csv')\n",
    "GB = pd.read_csv('data/new_data/resultGB.csv')\n",
    "CA = pd.read_csv('data/new_data/resultCA.csv')"
   ]
  },
  {
   "cell_type": "code",
   "execution_count": 3,
   "metadata": {},
   "outputs": [
    {
     "name": "stdout",
     "output_type": "stream",
     "text": [
      "<class 'pandas.core.frame.DataFrame'>\n",
      "Index: 63911 entries, 0 to 19685\n",
      "Data columns (total 19 columns):\n",
      " #   Column                  Non-Null Count  Dtype \n",
      "---  ------                  --------------  ----- \n",
      " 0   Unnamed: 0.1            63911 non-null  int64 \n",
      " 1   Unnamed: 0              63911 non-null  int64 \n",
      " 2   video_id                63911 non-null  object\n",
      " 3   trending_date           63911 non-null  object\n",
      " 4   title                   63911 non-null  object\n",
      " 5   channel_title           63911 non-null  object\n",
      " 6   category_id             63911 non-null  int64 \n",
      " 7   publish_time            63911 non-null  object\n",
      " 8   tags                    63911 non-null  object\n",
      " 9   views                   63911 non-null  int64 \n",
      " 10  likes                   63911 non-null  int64 \n",
      " 11  dislikes                63911 non-null  int64 \n",
      " 12  comment_count           63911 non-null  int64 \n",
      " 13  thumbnail_link          63911 non-null  object\n",
      " 14  comments_disabled       63911 non-null  bool  \n",
      " 15  ratings_disabled        63911 non-null  bool  \n",
      " 16  video_error_or_removed  63911 non-null  bool  \n",
      " 17  description             63341 non-null  object\n",
      " 18  subtitles               63911 non-null  object\n",
      "dtypes: bool(3), int64(7), object(9)\n",
      "memory usage: 8.5+ MB\n"
     ]
    }
   ],
   "source": [
    "df1 = pd.concat([US,GB])\n",
    "df = pd.concat([df1,CA])\n",
    "df.info()"
   ]
  },
  {
   "cell_type": "code",
   "execution_count": 12,
   "metadata": {},
   "outputs": [
    {
     "data": {
      "text/plain": [
       "14018"
      ]
     },
     "execution_count": 12,
     "metadata": {},
     "output_type": "execute_result"
    }
   ],
   "source": [
    "len(df['video_id'].unique())"
   ]
  },
  {
   "cell_type": "code",
   "execution_count": null,
   "metadata": {},
   "outputs": [],
   "source": []
  }
 ],
 "metadata": {
  "kernelspec": {
   "display_name": "env",
   "language": "python",
   "name": "python3"
  },
  "language_info": {
   "codemirror_mode": {
    "name": "ipython",
    "version": 3
   },
   "file_extension": ".py",
   "mimetype": "text/x-python",
   "name": "python",
   "nbconvert_exporter": "python",
   "pygments_lexer": "ipython3",
   "version": "3.8.10"
  },
  "orig_nbformat": 4
 },
 "nbformat": 4,
 "nbformat_minor": 2
}
