{
 "cells": [
  {
   "cell_type": "code",
   "execution_count": null,
   "metadata": {},
   "outputs": [],
   "source": [
    "import pandas as pd\n",
    "import re\n",
    "import numpy as np\n",
    "import pathlib"
   ]
  },
  {
   "cell_type": "code",
   "execution_count": null,
   "metadata": {},
   "outputs": [],
   "source": [
    "DATA_DIR = pathlib.Path.cwd().parent / 'data'\n",
    "\n",
    "questions = pd.read_csv(DATA_DIR / 'Questions.csv',encoding=\"ISO-8859-1\")\n",
    "tags = pd.read_csv(DATA_DIR / 'Tags.csv',encoding=\"ISO-8859-1\")"
   ]
  },
  {
   "cell_type": "code",
   "execution_count": null,
   "metadata": {},
   "outputs": [],
   "source": [
    "print(f\"questions: legth: {len(questions)} \\n columns: {questions.columns}\")\n",
    "print(f\"tags: legth: {len(tags)} \\n columns: {tags.columns}\")"
   ]
  },
  {
   "cell_type": "code",
   "execution_count": null,
   "metadata": {},
   "outputs": [],
   "source": [
    "# Inicialmente irei juntar o dataset de perguntas com o de tags\n",
    "questions = questions.drop(columns=['OwnerUserId','CreationDate','ClosedDate','Score','Title'])"
   ]
  },
  {
   "cell_type": "code",
   "execution_count": null,
   "metadata": {},
   "outputs": [],
   "source": [
    "# 37034 tags diferentes. Fazer limpeza para deixar apenas 1000\n",
    "tag_counts = tags['Tag'].value_counts()\n",
    "top_1000_tags = tag_counts.head(150).index.tolist()\n",
    "filtered_tags = tags[tags['Tag'].isin(top_1000_tags)]\n",
    "filtered_tags.info()"
   ]
  },
  {
   "cell_type": "code",
   "execution_count": null,
   "metadata": {},
   "outputs": [],
   "source": [
    "t = filtered_tags.copy()\n",
    "t['Tag'] = t['Tag'].apply(lambda x : str(x))"
   ]
  },
  {
   "cell_type": "code",
   "execution_count": null,
   "metadata": {},
   "outputs": [],
   "source": [
    "complete = questions.merge(t)"
   ]
  },
  {
   "cell_type": "code",
   "execution_count": null,
   "metadata": {},
   "outputs": [],
   "source": [
    "complete = complete.groupby(['Id','Body'])['Tag'].apply(list).reset_index()"
   ]
  },
  {
   "cell_type": "code",
   "execution_count": null,
   "metadata": {},
   "outputs": [],
   "source": [
    "complete"
   ]
  },
  {
   "cell_type": "code",
   "execution_count": null,
   "metadata": {},
   "outputs": [],
   "source": [
    "exp1 = np.random.randint(0,len(complete))\n",
    "exp2 = np.random.randint(0,len(complete))\n",
    "print(f\"Random examples of the Body:\\n Tag:{complete['Tag'][exp1]} \\n {complete['Body'][exp1]}  \\n\\n\\n  Tag:{complete['Tag'][exp2]} \\n {complete['Body'][exp2]}\")"
   ]
  },
  {
   "cell_type": "code",
   "execution_count": null,
   "metadata": {},
   "outputs": [],
   "source": [
    "# Um grande problema encontrado 'e que algumas das perguntas possuem codigo. Para melhorar a performance do modelo,\n",
    "# irei retirar todos os caracteres especiais \n",
    "def clean_body(txt:str):\n",
    "    txt = txt.replace(\"<p>\",\" \")\n",
    "    txt = txt.replace(\"</p>\",\" \")\n",
    "    txt = txt.replace(\"<pre><code>\",\" \")\n",
    "    txt = txt.replace(\"</pre></code>\",\" \")\n",
    "    new = re.sub(\"[^0-9a-zA-Z]+\",\" \",txt)\n",
    "    return new\n",
    "\n",
    "complete['Body'] = complete['Body'].apply(clean_body)"
   ]
  },
  {
   "cell_type": "code",
   "execution_count": null,
   "metadata": {},
   "outputs": [],
   "source": [
    "print(f\"Random examples of the clean Body: \\n Tag:{complete['Tag'][exp1]} \\n {complete['Body'][exp1]}  \\n\\n\\n  Tag:{complete['Tag'][exp2]} \\n {complete['Body'][exp2]}\")"
   ]
  },
  {
   "cell_type": "code",
   "execution_count": null,
   "metadata": {},
   "outputs": [],
   "source": [
    "# Por hora essa limpeza dos dados ja esta bom. Irei salvar em um novo csv\n",
    "complete.to_csv(DATA_DIR / 'processed_data.csv')"
   ]
  }
 ],
 "metadata": {
  "kernelspec": {
   "display_name": "env",
   "language": "python",
   "name": "python3"
  },
  "language_info": {
   "codemirror_mode": {
    "name": "ipython",
    "version": 3
   },
   "file_extension": ".py",
   "mimetype": "text/x-python",
   "name": "python",
   "nbconvert_exporter": "python",
   "pygments_lexer": "ipython3",
   "version": "3.8.10"
  },
  "orig_nbformat": 4
 },
 "nbformat": 4,
 "nbformat_minor": 2
}
