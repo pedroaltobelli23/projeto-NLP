{
 "cells": [
  {
   "cell_type": "code",
   "execution_count": 1,
   "metadata": {},
   "outputs": [],
   "source": [
    "import pandas as pd\n",
    "import re\n",
    "import numpy as np\n",
    "import pathlib"
   ]
  },
  {
   "cell_type": "code",
   "execution_count": 2,
   "metadata": {},
   "outputs": [],
   "source": [
    "DATA_DIR = pathlib.Path.cwd().parent / 'data'\n",
    "\n",
    "questions = pd.read_csv(DATA_DIR / 'Questions.csv',encoding=\"ISO-8859-1\")\n",
    "tags = pd.read_csv(DATA_DIR / 'Tags.csv',encoding=\"ISO-8859-1\")"
   ]
  },
  {
   "cell_type": "code",
   "execution_count": 3,
   "metadata": {},
   "outputs": [
    {
     "name": "stdout",
     "output_type": "stream",
     "text": [
      "questions: legth: 1264216 \n",
      " columns: Index(['Id', 'OwnerUserId', 'CreationDate', 'ClosedDate', 'Score', 'Title',\n",
      "       'Body'],\n",
      "      dtype='object')\n",
      "tags: legth: 3750994 \n",
      " columns: Index(['Id', 'Tag'], dtype='object')\n"
     ]
    }
   ],
   "source": [
    "print(f\"questions: legth: {len(questions)} \\n columns: {questions.columns}\")\n",
    "print(f\"tags: legth: {len(tags)} \\n columns: {tags.columns}\")"
   ]
  },
  {
   "cell_type": "code",
   "execution_count": 4,
   "metadata": {},
   "outputs": [],
   "source": [
    "# Inicialmente irei juntar o dataset de perguntas com o de tags\n",
    "questions = questions.drop(columns=['OwnerUserId','CreationDate','ClosedDate','Score','Title'])"
   ]
  },
  {
   "cell_type": "code",
   "execution_count": 5,
   "metadata": {},
   "outputs": [
    {
     "name": "stdout",
     "output_type": "stream",
     "text": [
      "<class 'pandas.core.frame.DataFrame'>\n",
      "Index: 1931957 entries, 1 to 3750989\n",
      "Data columns (total 2 columns):\n",
      " #   Column  Dtype \n",
      "---  ------  ----- \n",
      " 0   Id      int64 \n",
      " 1   Tag     object\n",
      "dtypes: int64(1), object(1)\n",
      "memory usage: 44.2+ MB\n"
     ]
    }
   ],
   "source": [
    "# 37034 tags diferentes. Fazer limpeza para deixar apenas 1000\n",
    "tag_counts = tags['Tag'].value_counts()\n",
    "top_1000_tags = tag_counts.head(150).index.tolist()\n",
    "filtered_tags = tags[tags['Tag'].isin(top_1000_tags)]\n",
    "filtered_tags.info()"
   ]
  },
  {
   "cell_type": "code",
   "execution_count": 6,
   "metadata": {},
   "outputs": [],
   "source": [
    "t = filtered_tags.copy()\n",
    "t['Tag'] = t['Tag'].apply(lambda x : str(x))"
   ]
  },
  {
   "cell_type": "code",
   "execution_count": 7,
   "metadata": {},
   "outputs": [],
   "source": [
    "complete = questions.merge(t)"
   ]
  },
  {
   "cell_type": "code",
   "execution_count": 8,
   "metadata": {},
   "outputs": [],
   "source": [
    "complete = complete.groupby(['Id','Body'])['Tag'].apply(list).reset_index()"
   ]
  },
  {
   "cell_type": "code",
   "execution_count": 9,
   "metadata": {},
   "outputs": [
    {
     "data": {
      "text/html": [
       "<div>\n",
       "<style scoped>\n",
       "    .dataframe tbody tr th:only-of-type {\n",
       "        vertical-align: middle;\n",
       "    }\n",
       "\n",
       "    .dataframe tbody tr th {\n",
       "        vertical-align: top;\n",
       "    }\n",
       "\n",
       "    .dataframe thead th {\n",
       "        text-align: right;\n",
       "    }\n",
       "</style>\n",
       "<table border=\"1\" class=\"dataframe\">\n",
       "  <thead>\n",
       "    <tr style=\"text-align: right;\">\n",
       "      <th></th>\n",
       "      <th>Id</th>\n",
       "      <th>Body</th>\n",
       "      <th>Tag</th>\n",
       "    </tr>\n",
       "  </thead>\n",
       "  <tbody>\n",
       "    <tr>\n",
       "      <th>0</th>\n",
       "      <td>80</td>\n",
       "      <td>&lt;p&gt;I've written a database generation script i...</td>\n",
       "      <td>[actionscript-3]</td>\n",
       "    </tr>\n",
       "    <tr>\n",
       "      <th>1</th>\n",
       "      <td>120</td>\n",
       "      <td>&lt;p&gt;Has anyone got experience creating &lt;strong&gt;...</td>\n",
       "      <td>[sql, asp.net]</td>\n",
       "    </tr>\n",
       "    <tr>\n",
       "      <th>2</th>\n",
       "      <td>180</td>\n",
       "      <td>&lt;p&gt;This is something I've pseudo-solved many t...</td>\n",
       "      <td>[algorithm]</td>\n",
       "    </tr>\n",
       "    <tr>\n",
       "      <th>3</th>\n",
       "      <td>260</td>\n",
       "      <td>&lt;p&gt;I have a little game written in C#. It uses...</td>\n",
       "      <td>[c#, .net]</td>\n",
       "    </tr>\n",
       "    <tr>\n",
       "      <th>4</th>\n",
       "      <td>330</td>\n",
       "      <td>&lt;p&gt;I am working on a collection of classes use...</td>\n",
       "      <td>[c++, oop, class]</td>\n",
       "    </tr>\n",
       "    <tr>\n",
       "      <th>...</th>\n",
       "      <td>...</td>\n",
       "      <td>...</td>\n",
       "      <td>...</td>\n",
       "    </tr>\n",
       "    <tr>\n",
       "      <th>1098639</th>\n",
       "      <td>40143170</td>\n",
       "      <td>&lt;p&gt;I am trying to assign a Product model for s...</td>\n",
       "      <td>[laravel]</td>\n",
       "    </tr>\n",
       "    <tr>\n",
       "      <th>1098640</th>\n",
       "      <td>40143190</td>\n",
       "      <td>&lt;p&gt;I need to extend a shell script (bash). As ...</td>\n",
       "      <td>[python, bash]</td>\n",
       "    </tr>\n",
       "    <tr>\n",
       "      <th>1098641</th>\n",
       "      <td>40143210</td>\n",
       "      <td>&lt;p&gt;I am building a custom MVC project and I ha...</td>\n",
       "      <td>[php, .htaccess]</td>\n",
       "    </tr>\n",
       "    <tr>\n",
       "      <th>1098642</th>\n",
       "      <td>40143340</td>\n",
       "      <td>&lt;p&gt;Under minifyEnabled I changed from false to...</td>\n",
       "      <td>[android, android-studio]</td>\n",
       "    </tr>\n",
       "    <tr>\n",
       "      <th>1098643</th>\n",
       "      <td>40143360</td>\n",
       "      <td>&lt;p&gt;I have input which I use to filter my array...</td>\n",
       "      <td>[javascript]</td>\n",
       "    </tr>\n",
       "  </tbody>\n",
       "</table>\n",
       "<p>1098644 rows × 3 columns</p>\n",
       "</div>"
      ],
      "text/plain": [
       "               Id                                               Body   \n",
       "0              80  <p>I've written a database generation script i...  \\\n",
       "1             120  <p>Has anyone got experience creating <strong>...   \n",
       "2             180  <p>This is something I've pseudo-solved many t...   \n",
       "3             260  <p>I have a little game written in C#. It uses...   \n",
       "4             330  <p>I am working on a collection of classes use...   \n",
       "...           ...                                                ...   \n",
       "1098639  40143170  <p>I am trying to assign a Product model for s...   \n",
       "1098640  40143190  <p>I need to extend a shell script (bash). As ...   \n",
       "1098641  40143210  <p>I am building a custom MVC project and I ha...   \n",
       "1098642  40143340  <p>Under minifyEnabled I changed from false to...   \n",
       "1098643  40143360  <p>I have input which I use to filter my array...   \n",
       "\n",
       "                               Tag  \n",
       "0                 [actionscript-3]  \n",
       "1                   [sql, asp.net]  \n",
       "2                      [algorithm]  \n",
       "3                       [c#, .net]  \n",
       "4                [c++, oop, class]  \n",
       "...                            ...  \n",
       "1098639                  [laravel]  \n",
       "1098640             [python, bash]  \n",
       "1098641           [php, .htaccess]  \n",
       "1098642  [android, android-studio]  \n",
       "1098643               [javascript]  \n",
       "\n",
       "[1098644 rows x 3 columns]"
      ]
     },
     "execution_count": 9,
     "metadata": {},
     "output_type": "execute_result"
    }
   ],
   "source": [
    "complete"
   ]
  },
  {
   "cell_type": "code",
   "execution_count": 10,
   "metadata": {},
   "outputs": [
    {
     "name": "stdout",
     "output_type": "stream",
     "text": [
      "Random examples of the Body:\n",
      " Tag:['bash', 'shell'] \n",
      " <p>Below is my pre-commit git hoook</p>\n",
      "\n",
      "<pre><code>#!/bin/bash\n",
      "\n",
      "....\n",
      "# if git diff -U0 \"$FILE_PATH\" | grep -iq 'todo'; # Double quoting $FILE_PATH doesnt' change anything\n",
      "if git diff -U0 $FILE_PATH | grep -iq 'todo';\n",
      "then\n",
      "    echo $FILE_PATH ' -&gt; Contains TODO'\n",
      "    exit 1\n",
      "\n",
      "else\n",
      "    echo 'nooooooooooooooooooooooooooooooooooo'\n",
      "fi\n",
      "</code></pre>\n",
      "\n",
      "<p>I'm always getting the <code>noooooooooooooooooooo</code> message, however the command below, tried directly on my terminal, works well:</p>\n",
      "\n",
      "<pre><code>git diff -U0 my/file/path.php | grep -iq 'todo' &amp;&amp; echo 'true' || echo 'false'\n",
      "</code></pre>\n",
      "\n",
      "<p>Output</p>\n",
      "\n",
      "<pre><code>true\n",
      "</code></pre>\n",
      "\n",
      "<p><strong>UPDATE</strong></p>\n",
      "\n",
      "<p>When running <code>bash .git/hooks/pre-commit</code> it works, very strange!!</p>\n",
      "\n",
      "<p><strong>FYI</strong></p>\n",
      "\n",
      "<p>I don't know if it's an important information but .git/hooks/pre-commit is a symbolik link</p>\n",
      "  \n",
      "\n",
      "\n",
      "  Tag:['arrays', 'perl'] \n",
      " <p>I am writing a perl script and currently working on a subroutine to sum all values of an array. Currently, my code only reads in each line and stores the entire line into each array element. I need each individual number stored in it's own element. </p>\n",
      "\n",
      "<p>Here's a sample of my data: </p>\n",
      "\n",
      "<pre><code>50 71 55 93 115\n",
      "45 76 49 88 102\n",
      "59 78 53 96 145\n",
      "33 65 39 82 100\n",
      "54 77 56 98 158\n",
      "</code></pre>\n",
      "\n",
      "<p>Here's my code: </p>\n",
      "\n",
      "<pre><code>my @array;\n",
      "\n",
      " #bring in each line and store into array called 'array'\n",
      " open(my $fh, \"&lt;\", \"score\")\n",
      "     or die \"Failed to open file: $!\\n\";\n",
      " while(&lt;$fh&gt;) { \n",
      "     chomp; \n",
      "     push @array, $_;\n",
      " } \n",
      " close $fh;\n",
      "</code></pre>\n",
      "\n",
      "<p>When I call my subroutine to sum the values of the array, my result is 241. That is the sum of each of the first numbers in each line. </p>\n",
      "\n",
      "<p>Any help or suggestions? </p>\n",
      "\n"
     ]
    }
   ],
   "source": [
    "exp1 = np.random.randint(0,len(complete))\n",
    "exp2 = np.random.randint(0,len(complete))\n",
    "print(f\"Random examples of the Body:\\n Tag:{complete['Tag'][exp1]} \\n {complete['Body'][exp1]}  \\n\\n\\n  Tag:{complete['Tag'][exp2]} \\n {complete['Body'][exp2]}\")"
   ]
  },
  {
   "cell_type": "code",
   "execution_count": 11,
   "metadata": {},
   "outputs": [],
   "source": [
    "# Um grande problema encontrado 'e que algumas das perguntas possuem codigo. Para melhorar a performance do modelo,\n",
    "# irei retirar todos os caracteres especiais \n",
    "def clean_body(txt:str):\n",
    "    txt = txt.replace(\"<p>\",\" \")\n",
    "    txt = txt.replace(\"</p>\",\" \")\n",
    "    txt = txt.replace(\"<pre><code>\",\" \")\n",
    "    txt = txt.replace(\"</pre></code>\",\" \")\n",
    "    new = re.sub(\"[^0-9a-zA-Z]+\",\" \",txt)\n",
    "    return new\n",
    "\n",
    "complete['Body'] = complete['Body'].apply(clean_body)"
   ]
  },
  {
   "cell_type": "code",
   "execution_count": 12,
   "metadata": {},
   "outputs": [
    {
     "name": "stdout",
     "output_type": "stream",
     "text": [
      "Random examples of the clean Body: \n",
      " Tag:['bash', 'shell'] \n",
      "  Below is my pre commit git hoook bin bash if git diff U0 FILE PATH grep iq todo Double quoting FILE PATH doesnt change anything if git diff U0 FILE PATH grep iq todo then echo FILE PATH gt Contains TODO exit 1 else echo nooooooooooooooooooooooooooooooooooo fi code pre I m always getting the code noooooooooooooooooooo code message however the command below tried directly on my terminal works well git diff U0 my file path php grep iq todo amp amp echo true echo false code pre Output true code pre strong UPDATE strong When running code bash git hooks pre commit code it works very strange strong FYI strong I don t know if it s an important information but git hooks pre commit is a symbolik link   \n",
      "\n",
      "\n",
      "  Tag:['arrays', 'perl'] \n",
      "  I am writing a perl script and currently working on a subroutine to sum all values of an array Currently my code only reads in each line and stores the entire line into each array element I need each individual number stored in it s own element Here s a sample of my data 50 71 55 93 115 45 76 49 88 102 59 78 53 96 145 33 65 39 82 100 54 77 56 98 158 code pre Here s my code my array bring in each line and store into array called array open my fh lt score or die Failed to open file n while lt fh gt chomp push array close fh code pre When I call my subroutine to sum the values of the array my result is 241 That is the sum of each of the first numbers in each line Any help or suggestions \n"
     ]
    }
   ],
   "source": [
    "print(f\"Random examples of the clean Body: \\n Tag:{complete['Tag'][exp1]} \\n {complete['Body'][exp1]}  \\n\\n\\n  Tag:{complete['Tag'][exp2]} \\n {complete['Body'][exp2]}\")"
   ]
  },
  {
   "cell_type": "code",
   "execution_count": 13,
   "metadata": {},
   "outputs": [],
   "source": [
    "# Por hora essa limpeza dos dados ja esta bom. Irei salvar em um novo csv\n",
    "complete.to_csv(DATA_DIR / 'processed_data.csv')"
   ]
  }
 ],
 "metadata": {
  "kernelspec": {
   "display_name": "env",
   "language": "python",
   "name": "python3"
  },
  "language_info": {
   "codemirror_mode": {
    "name": "ipython",
    "version": 3
   },
   "file_extension": ".py",
   "mimetype": "text/x-python",
   "name": "python",
   "nbconvert_exporter": "python",
   "pygments_lexer": "ipython3",
   "version": "3.8.10"
  },
  "orig_nbformat": 4
 },
 "nbformat": 4,
 "nbformat_minor": 2
}
