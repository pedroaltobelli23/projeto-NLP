{
 "cells": [
  {
   "cell_type": "code",
   "execution_count": null,
   "metadata": {},
   "outputs": [],
   "source": [
    "from tensorflow.keras import layers\n",
    "from tensorflow import keras\n",
    "import tensorflow as tf\n",
    "\n",
    "from sklearn.model_selection import train_test_split\n",
    "from ast import literal_eval\n",
    "\n",
    "import pathlib\n",
    "import matplotlib.pyplot as plt\n",
    "import pandas as pd\n",
    "import numpy as np\n",
    "\n",
    "\n",
    "DATA_DIR = pathlib.Path.cwd().parent / 'data'\n",
    "\n",
    "dataframe = pd.read_csv(DATA_DIR / 'processed_data.csv')\n",
    "\n",
    "df = dataframe.copy()\n",
    "\n",
    "df.info()\n",
    "df['Tag'] = df['Tag'].apply(lambda x: literal_eval(x))\n",
    "df['Tag'] = df['Tag'].apply(lambda x : x[0])\n",
    "\n",
    "baseline_df = df.loc[:,['Body','Tag']].sample(frac=0.7)\n",
    "# baseline_df.info()\n",
    "\n",
    "# Divisao em train e teste com stratify\n",
    "\n",
    "train_df, test_df = train_test_split(\n",
    "    baseline_df,\n",
    "    test_size=0.15\n",
    ")\n",
    "\n",
    "val_df = test_df.sample(frac=0.3)\n",
    "test_df.drop(val_df.index, inplace=True)\n",
    "\n",
    "print(f\"Number of rows in training set: {len(train_df)}\")\n",
    "print(f\"Number of rows in test set: {len(test_df)}\")\n",
    "print(f\"Number of rows in validation set: {len(val_df)}\")"
   ]
  },
  {
   "cell_type": "code",
   "execution_count": null,
   "metadata": {},
   "outputs": [],
   "source": [
    "dataset_train = tf.data.Dataset.from_tensor_slices(dict(train_df))\n"
   ]
  }
 ],
 "metadata": {
  "language_info": {
   "name": "python"
  },
  "orig_nbformat": 4
 },
 "nbformat": 4,
 "nbformat_minor": 2
}
