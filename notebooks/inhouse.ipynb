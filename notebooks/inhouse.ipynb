{
 "cells": [
  {
   "cell_type": "code",
   "execution_count": 56,
   "metadata": {},
   "outputs": [],
   "source": [
    "from keras.layers import Input, Dense, Activation, TimeDistributed, Softmax, TextVectorization, Reshape, RepeatVector, GRU, Conv1D, Bidirectional, AveragePooling1D, UpSampling1D, Embedding, Concatenate, GlobalAveragePooling1D, LSTM, Multiply\n",
    "from keras.models import Model\n",
    "import pandas as pd\n",
    "from tqdm import tqdm\n",
    "import tensorflow as tf\n",
    "from sklearn.model_selection import train_test_split\n",
    "from ast import literal_eval\n",
    "import pathlib\n",
    "import matplotlib.pyplot as plt\n",
    "import numpy as np\n",
    "import os\n",
    "from tqdm import tqdm\n",
    "\n",
    "DATA_DIR = pathlib.Path.cwd().parent / 'data'\n",
    "N_classes = 150\n",
    "dataframe = pd.read_csv(DATA_DIR / 'processed_data.csv')"
   ]
  },
  {
   "cell_type": "code",
   "execution_count": 57,
   "metadata": {},
   "outputs": [
    {
     "name": "stdout",
     "output_type": "stream",
     "text": [
      "<class 'pandas.core.frame.DataFrame'>\n",
      "Index: 549322 entries, 1016787 to 1044696\n",
      "Data columns (total 2 columns):\n",
      " #   Column  Non-Null Count   Dtype \n",
      "---  ------  --------------   ----- \n",
      " 0   Body    549322 non-null  object\n",
      " 1   Tag     549322 non-null  object\n",
      "dtypes: object(2)\n",
      "memory usage: 12.6+ MB\n"
     ]
    }
   ],
   "source": [
    "df = dataframe.copy()\n",
    "\n",
    "df['Tag'] = df['Tag'].apply(lambda x: literal_eval(x))\n",
    "df['Tag'] = df['Tag'].apply(lambda x : x[0]) # Getting the most important tag from the \n",
    "df['Tag'] = df['Tag'].apply(lambda x : str(x))\n",
    "baseline_df = df.loc[:,['Body','Tag']].sample(frac=0.5)\n",
    "baseline_df.info()"
   ]
  },
  {
   "cell_type": "code",
   "execution_count": 58,
   "metadata": {},
   "outputs": [],
   "source": [
    "baseline_df.reset_index(inplace=True)"
   ]
  },
  {
   "cell_type": "code",
   "execution_count": 83,
   "metadata": {},
   "outputs": [
    {
     "data": {
      "text/plain": [
       "array(['c++', 'mysql', 'html', 'sql-server-2008', 'selenium', 'python',\n",
       "       'java', 'android', 'matlab', 'php', 'ruby-on-rails', 'javascript',\n",
       "       'ios', 'jquery', 'iphone', 'xml', '.net', 'oracle', 'c#',\n",
       "       'amazon-web-services', 'ruby', 'regex', 'r', 'sql-server',\n",
       "       'node.js', 'asp.net', 'scala', 'powershell', 'image',\n",
       "       'objective-c', 'css', 'jsp', 'sql', 'maven', 'excel', 'hadoop',\n",
       "       'actionscript-3', 'bash', 'haskell', 'angularjs', 'c', 'vb.net',\n",
       "       'eclipse', 'algorithm', 'asp.net-mvc', 'windows', 'perl', 'email',\n",
       "       'django', 'python-2.7', 'delphi', 'linq', 'security',\n",
       "       'internet-explorer', 'excel-vba', 'tsql', 'mongodb', 'flash',\n",
       "       'hibernate', 'wpf', 'list', 'object', 'arrays', 'http',\n",
       "       'wordpress', 'user-interface', 'python-3.x', 'laravel',\n",
       "       'cocoa-touch', '.htaccess', 'css3', 'facebook', 'spring', 'string',\n",
       "       'git', 'ajax', 'batch-file', 'osx', 'postgresql', 'jquery-ui',\n",
       "       'web-services', 'wcf', 'linux', 'apache', 'winforms', 'json',\n",
       "       'unit-testing', 'ruby-on-rails-4', 'google-app-engine', 'vba',\n",
       "       'qt', 'oop', 'entity-framework', 'tomcat', 'xcode', 'google-maps',\n",
       "       'database', 'sqlite', 'html5', 'validation', 'file', 'cordova',\n",
       "       'azure', 'opencv', 'google-chrome', 'asp.net-mvc-3', 'rest',\n",
       "       'spring-mvc', 'visual-studio', 'magento', 'symfony2',\n",
       "       'visual-studio-2010', 'swift', 'function', 'ipad', 'unix',\n",
       "       'ruby-on-rails-3', 'android-layout', 'twitter-bootstrap',\n",
       "       'session', 'variables', 'date', 'api', 'templates', 'sorting',\n",
       "       'performance', 'csv', 'cocoa', 'sockets', 'loops',\n",
       "       'multithreading', 'asp.net-mvc-4', 'parsing', 'ms-access', 'shell',\n",
       "       'class', 'debugging', 'android-studio', 'ubuntu', 'xaml',\n",
       "       'codeigniter', 'jsf', 'datetime', 'pandas', 'forms', 'listview',\n",
       "       'uitableview', 'c++11', 'pointers', 'swing'], dtype=object)"
      ]
     },
     "execution_count": 83,
     "metadata": {},
     "output_type": "execute_result"
    }
   ],
   "source": [
    "unicos = baseline_df['Tag'].unique()\n",
    "unicos"
   ]
  },
  {
   "cell_type": "code",
   "execution_count": 60,
   "metadata": {},
   "outputs": [],
   "source": [
    "DATASET_DIR = 'dataset/'\n",
    "if not os.path.exists(DATASET_DIR):\n",
    "    os.mkdir(DATASET_DIR)\n",
    "    os.mkdir(DATASET_DIR + \"/train\")\n",
    "    for i in unicos:\n",
    "        os.mkdir(DATASET_DIR + \"/train/\" + i)\n",
    "    os.mkdir(DATASET_DIR + \"/test\")\n",
    "    for i in unicos:\n",
    "        os.mkdir(DATASET_DIR + \"/test/\" + i)\n",
    "    "
   ]
  },
  {
   "cell_type": "code",
   "execution_count": 61,
   "metadata": {},
   "outputs": [
    {
     "name": "stderr",
     "output_type": "stream",
     "text": [
      "100%|██████████| 439457/439457 [00:24<00:00, 18087.67it/s]\n",
      "100%|██████████| 109865/109865 [00:06<00:00, 16279.47it/s]"
     ]
    },
    {
     "name": "stdout",
     "output_type": "stream",
     "text": [
      "Criei textos: 549322\n"
     ]
    },
    {
     "name": "stderr",
     "output_type": "stream",
     "text": [
      "\n"
     ]
    }
   ],
   "source": [
    "reviews = baseline_df['Body']\n",
    "labels = baseline_df['Tag']\n",
    "x_train, x_test, y_train, y_test = train_test_split(reviews, labels, train_size=0.8)\n",
    "\n",
    "n_texto = 0\n",
    "for i in tqdm(range(len(y_train))):\n",
    "    texto = x_train.iloc[i]\n",
    "    fname = 'body_' + str(n_texto) + '.txt'\n",
    "    with open(DATASET_DIR + \"train/\" + y_train.iloc[i] + \"/\" + fname, 'w') as f:\n",
    "        f.write(texto)\n",
    "        n_texto += 1\n",
    "\n",
    "for i in tqdm(range(len(y_test))):\n",
    "    texto = x_test.iloc[i]\n",
    "    fname = 'tag_' + str(n_texto) + '.txt'\n",
    "    with open(DATASET_DIR + \"/test/\" + y_test.iloc[i] + \"/\" + fname, 'w') as f:\n",
    "        f.write(texto)\n",
    "        n_texto += 1\n",
    "\n",
    "print(\"Criei textos:\", n_texto)"
   ]
  },
  {
   "cell_type": "code",
   "execution_count": 62,
   "metadata": {},
   "outputs": [
    {
     "name": "stdout",
     "output_type": "stream",
     "text": [
      "Found 439457 files belonging to 150 classes.\n",
      "Found 109865 files belonging to 150 classes.\n"
     ]
    }
   ],
   "source": [
    "from tensorflow.keras.utils import text_dataset_from_directory\n",
    "\n",
    "dataset_train = text_dataset_from_directory(\n",
    "    DATASET_DIR + '/train',\n",
    "    labels='inferred',\n",
    "    label_mode='categorical',\n",
    "    class_names=None,\n",
    "    batch_size=1024,\n",
    "    max_length=None,\n",
    "    shuffle=True,\n",
    "    seed=None,\n",
    "    validation_split=None,\n",
    "    subset=None,\n",
    "    follow_links=False\n",
    ")\n",
    "\n",
    "dataset_test = text_dataset_from_directory(\n",
    "    DATASET_DIR+ '/test',\n",
    "    labels='inferred',\n",
    "    label_mode='categorical',\n",
    "    class_names=None,\n",
    "    batch_size=1024,\n",
    "    max_length=None,\n",
    "    shuffle=True,\n",
    "    seed=None,\n",
    "    validation_split=None,\n",
    "    subset=None,\n",
    "    follow_links=False\n",
    ")"
   ]
  },
  {
   "cell_type": "code",
   "execution_count": null,
   "metadata": {},
   "outputs": [],
   "source": []
  },
  {
   "cell_type": "code",
   "execution_count": 63,
   "metadata": {},
   "outputs": [
    {
     "name": "stderr",
     "output_type": "stream",
     "text": [
      "2023-06-07 16:22:24.830040: I tensorflow/core/common_runtime/executor.cc:1197] [/device:CPU:0] (DEBUG INFO) Executor start aborting (this does not indicate an error and you can ignore this message): INVALID_ARGUMENT: You must feed a value for placeholder tensor 'Placeholder/_4' with dtype int32 and shape [439457]\n",
      "\t [[{{node Placeholder/_4}}]]\n",
      "2023-06-07 16:22:24.830314: I tensorflow/core/common_runtime/executor.cc:1197] [/device:CPU:0] (DEBUG INFO) Executor start aborting (this does not indicate an error and you can ignore this message): INVALID_ARGUMENT: You must feed a value for placeholder tensor 'Placeholder/_4' with dtype int32 and shape [439457]\n",
      "\t [[{{node Placeholder/_4}}]]\n"
     ]
    }
   ],
   "source": [
    "vocab_size = 10000\n",
    "vectorize_layer = TextVectorization(max_tokens = vocab_size,output_sequence_length=256)\n",
    "vectorize_layer.adapt(dataset_train.map(lambda x,label:x))"
   ]
  },
  {
   "cell_type": "code",
   "execution_count": 66,
   "metadata": {},
   "outputs": [
    {
     "name": "stdout",
     "output_type": "stream",
     "text": [
      "Model: \"model_20\"\n",
      "_________________________________________________________________\n",
      " Layer (type)                Output Shape              Param #   \n",
      "=================================================================\n",
      " input_21 (InputLayer)       [(None, 1)]               0         \n",
      "                                                                 \n",
      " text_vectorization_1 (TextV  (None, 256)              0         \n",
      " ectorization)                                                   \n",
      "                                                                 \n",
      " projecao (Embedding)        (None, 256, 2)            20000     \n",
      "                                                                 \n",
      " ngramas (Functional)        (None, 128, 16)           96        \n",
      "                                                                 \n",
      " reshape_3 (Reshape)         (None, 2048)              0         \n",
      "                                                                 \n",
      " classificador (Dense)       (None, 150)               307350    \n",
      "                                                                 \n",
      " activation_21 (Activation)  (None, 150)               0         \n",
      "                                                                 \n",
      "=================================================================\n",
      "Total params: 327,446\n",
      "Trainable params: 327,446\n",
      "Non-trainable params: 0\n",
      "_________________________________________________________________\n",
      "None\n",
      "Model: \"model_21\"\n",
      "_________________________________________________________________\n",
      " Layer (type)                Output Shape              Param #   \n",
      "=================================================================\n",
      " input_21 (InputLayer)       [(None, 1)]               0         \n",
      "                                                                 \n",
      " text_vectorization_1 (TextV  (None, 256)              0         \n",
      " ectorization)                                                   \n",
      "                                                                 \n",
      " projecao (Embedding)        (None, 256, 2)            20000     \n",
      "                                                                 \n",
      " ngramas (Functional)        (None, 128, 16)           96        \n",
      "                                                                 \n",
      " reshape_3 (Reshape)         (None, 2048)              0         \n",
      "                                                                 \n",
      "=================================================================\n",
      "Total params: 20,096\n",
      "Trainable params: 20,096\n",
      "Non-trainable params: 0\n",
      "_________________________________________________________________\n",
      "None\n"
     ]
    }
   ],
   "source": [
    "def convolve_and_downsample(input_n_samples, input_embedding_size, n_filters, kernel_size=3, **kwargs):\n",
    "    input_layer = Input(shape=(input_n_samples,input_embedding_size))\n",
    "    x = input_layer\n",
    "    x = Conv1D( filters=n_filters,\n",
    "                kernel_size=kernel_size,\n",
    "                padding='same',\n",
    "                use_bias=False,\n",
    "                )(x)\n",
    "    x = AveragePooling1D(pool_size=2)(x)\n",
    "    x = Activation('elu')(x)\n",
    "    return Model(input_layer, x, **kwargs)\n",
    "\n",
    "def deep_cnn_embedding_softmax_model(vectorize_layer, vocab_size=vocab_size, number_of_ngrams=16, n_gram_size=3):\n",
    "    input_layer = Input(shape=(1,), dtype=tf.string)\n",
    "    x = input_layer\n",
    "    x = vectorize_layer(x)\n",
    "    x = Embedding(vocab_size, 2, name='projecao')(x)\n",
    "    x = convolve_and_downsample(256, 2, number_of_ngrams, n_gram_size, name='ngramas')(x)\n",
    "    x_ = Reshape( (-1,))(x)\n",
    "    x = Dense(N_classes, name='classificador')(x_)\n",
    "    x = Activation('softmax')(x)\n",
    "    return Model(input_layer, x), Model(input_layer, x_)\n",
    "clf_classifier,clf_extractor = deep_cnn_embedding_softmax_model(vectorize_layer)\n",
    "print(clf_classifier.summary())\n",
    "print(clf_extractor.summary())\n",
    "clf_classifier.compile(loss='categorical_crossentropy', metrics=['accuracy'])"
   ]
  },
  {
   "cell_type": "code",
   "execution_count": 67,
   "metadata": {},
   "outputs": [
    {
     "name": "stdout",
     "output_type": "stream",
     "text": [
      "Epoch 1/10\n",
      "429/430 [============================>.] - ETA: 0s - loss: 3.4965 - accuracy: 0.1484"
     ]
    },
    {
     "name": "stderr",
     "output_type": "stream",
     "text": [
      "2023-06-07 16:23:39.185791: I tensorflow/core/common_runtime/executor.cc:1197] [/device:CPU:0] (DEBUG INFO) Executor start aborting (this does not indicate an error and you can ignore this message): INVALID_ARGUMENT: You must feed a value for placeholder tensor 'Placeholder/_0' with dtype string and shape [109865]\n",
      "\t [[{{node Placeholder/_0}}]]\n",
      "2023-06-07 16:23:39.186130: I tensorflow/core/common_runtime/executor.cc:1197] [/device:CPU:0] (DEBUG INFO) Executor start aborting (this does not indicate an error and you can ignore this message): INVALID_ARGUMENT: You must feed a value for placeholder tensor 'Placeholder/_0' with dtype string and shape [109865]\n",
      "\t [[{{node Placeholder/_0}}]]\n"
     ]
    },
    {
     "name": "stdout",
     "output_type": "stream",
     "text": [
      "430/430 [==============================] - 32s 73ms/step - loss: 3.4963 - accuracy: 0.1485 - val_loss: 3.0931 - val_accuracy: 0.2247\n",
      "Epoch 2/10\n",
      "430/430 [==============================] - 31s 72ms/step - loss: 2.9053 - accuracy: 0.2819 - val_loss: 2.7803 - val_accuracy: 0.3222\n",
      "Epoch 3/10\n",
      "430/430 [==============================] - 30s 70ms/step - loss: 2.6929 - accuracy: 0.3568 - val_loss: 2.6546 - val_accuracy: 0.3787\n",
      "Epoch 4/10\n",
      "430/430 [==============================] - 30s 70ms/step - loss: 2.5870 - accuracy: 0.3914 - val_loss: 2.5931 - val_accuracy: 0.3891\n",
      "Epoch 5/10\n",
      "430/430 [==============================] - 30s 70ms/step - loss: 2.5119 - accuracy: 0.4133 - val_loss: 2.5229 - val_accuracy: 0.4235\n",
      "Epoch 6/10\n",
      "430/430 [==============================] - 30s 70ms/step - loss: 2.4406 - accuracy: 0.4347 - val_loss: 2.4640 - val_accuracy: 0.4386\n",
      "Epoch 7/10\n",
      "430/430 [==============================] - 30s 70ms/step - loss: 2.3785 - accuracy: 0.4530 - val_loss: 2.4148 - val_accuracy: 0.4592\n",
      "Epoch 8/10\n",
      "430/430 [==============================] - 30s 70ms/step - loss: 2.3271 - accuracy: 0.4662 - val_loss: 2.3651 - val_accuracy: 0.4661\n",
      "Epoch 9/10\n",
      "430/430 [==============================] - 30s 70ms/step - loss: 2.2817 - accuracy: 0.4765 - val_loss: 2.3371 - val_accuracy: 0.4780\n",
      "Epoch 10/10\n",
      "430/430 [==============================] - 30s 70ms/step - loss: 2.2417 - accuracy: 0.4847 - val_loss: 2.3058 - val_accuracy: 0.4809\n"
     ]
    }
   ],
   "source": [
    "history = clf_classifier.fit(dataset_train, epochs=10, verbose=1, validation_data=dataset_test)\n"
   ]
  },
  {
   "cell_type": "code",
   "execution_count": 68,
   "metadata": {},
   "outputs": [
    {
     "name": "stdout",
     "output_type": "stream",
     "text": [
      "108/108 [==============================] - 4s 39ms/step - loss: 2.3058 - accuracy: 0.4809\n"
     ]
    },
    {
     "data": {
      "text/plain": [
       "[2.305760383605957, 0.48088109493255615]"
      ]
     },
     "execution_count": 68,
     "metadata": {},
     "output_type": "execute_result"
    }
   ],
   "source": [
    "clf_classifier.evaluate(dataset_test)"
   ]
  },
  {
   "cell_type": "code",
   "execution_count": 75,
   "metadata": {},
   "outputs": [
    {
     "name": "stdout",
     "output_type": "stream",
     "text": [
      "1/1 [==============================] - 0s 35ms/step\n"
     ]
    }
   ],
   "source": [
    "a = clf_classifier.predict([\"\"\"31\n",
    "\n",
    "I was looking for a tutorial on how to install Python libraries in the wheel format.\n",
    "\n",
    "It does not seem straightforward so I'd appreciate a simple step by step tutorial how to install the module named \"requests\" for CPython.\n",
    "\n",
    "I downloaded it from: https://pypi.python.org/pypi/requests and now I have a .whl file. I've got Python 2.7 and 3.3 on Windows, so how do I install it so all the other Python scripts I run can use it?\"\"\"])\n",
    "\n"
   ]
  },
  {
   "cell_type": "code",
   "execution_count": 88,
   "metadata": {},
   "outputs": [
    {
     "data": {
      "text/plain": [
       "['.htaccess',\n",
       " '.net',\n",
       " 'actionscript-3',\n",
       " 'ajax',\n",
       " 'algorithm',\n",
       " 'amazon-web-services',\n",
       " 'android',\n",
       " 'android-layout',\n",
       " 'android-studio',\n",
       " 'angularjs',\n",
       " 'apache',\n",
       " 'api',\n",
       " 'arrays',\n",
       " 'asp.net',\n",
       " 'asp.net-mvc',\n",
       " 'asp.net-mvc-3',\n",
       " 'asp.net-mvc-4',\n",
       " 'azure',\n",
       " 'bash',\n",
       " 'batch-file',\n",
       " 'c',\n",
       " 'c#',\n",
       " 'c++',\n",
       " 'c++11',\n",
       " 'class',\n",
       " 'cocoa',\n",
       " 'cocoa-touch',\n",
       " 'codeigniter',\n",
       " 'cordova',\n",
       " 'css',\n",
       " 'css3',\n",
       " 'csv',\n",
       " 'database',\n",
       " 'date',\n",
       " 'datetime',\n",
       " 'debugging',\n",
       " 'delphi',\n",
       " 'django',\n",
       " 'eclipse',\n",
       " 'email',\n",
       " 'entity-framework',\n",
       " 'excel',\n",
       " 'excel-vba',\n",
       " 'facebook',\n",
       " 'file',\n",
       " 'flash',\n",
       " 'forms',\n",
       " 'function',\n",
       " 'git',\n",
       " 'google-app-engine',\n",
       " 'google-chrome',\n",
       " 'google-maps',\n",
       " 'hadoop',\n",
       " 'haskell',\n",
       " 'hibernate',\n",
       " 'html',\n",
       " 'html5',\n",
       " 'http',\n",
       " 'image',\n",
       " 'internet-explorer',\n",
       " 'ios',\n",
       " 'ipad',\n",
       " 'iphone',\n",
       " 'java',\n",
       " 'javascript',\n",
       " 'jquery',\n",
       " 'jquery-ui',\n",
       " 'jsf',\n",
       " 'json',\n",
       " 'jsp',\n",
       " 'laravel',\n",
       " 'linq',\n",
       " 'linux',\n",
       " 'list',\n",
       " 'listview',\n",
       " 'loops',\n",
       " 'magento',\n",
       " 'matlab',\n",
       " 'maven',\n",
       " 'mongodb',\n",
       " 'ms-access',\n",
       " 'multithreading',\n",
       " 'mysql',\n",
       " 'node.js',\n",
       " 'object',\n",
       " 'objective-c',\n",
       " 'oop',\n",
       " 'opencv',\n",
       " 'oracle',\n",
       " 'osx',\n",
       " 'pandas',\n",
       " 'parsing',\n",
       " 'performance',\n",
       " 'perl',\n",
       " 'php',\n",
       " 'pointers',\n",
       " 'postgresql',\n",
       " 'powershell',\n",
       " 'python',\n",
       " 'python-2.7',\n",
       " 'python-3.x',\n",
       " 'qt',\n",
       " 'r',\n",
       " 'regex',\n",
       " 'rest',\n",
       " 'ruby',\n",
       " 'ruby-on-rails',\n",
       " 'ruby-on-rails-3',\n",
       " 'ruby-on-rails-4',\n",
       " 'scala',\n",
       " 'security',\n",
       " 'selenium',\n",
       " 'session',\n",
       " 'shell',\n",
       " 'sockets',\n",
       " 'sorting',\n",
       " 'spring',\n",
       " 'spring-mvc',\n",
       " 'sql',\n",
       " 'sql-server',\n",
       " 'sql-server-2008',\n",
       " 'sqlite',\n",
       " 'string',\n",
       " 'swift',\n",
       " 'swing',\n",
       " 'symfony2',\n",
       " 'templates',\n",
       " 'tomcat',\n",
       " 'tsql',\n",
       " 'twitter-bootstrap',\n",
       " 'ubuntu',\n",
       " 'uitableview',\n",
       " 'unit-testing',\n",
       " 'unix',\n",
       " 'user-interface',\n",
       " 'validation',\n",
       " 'variables',\n",
       " 'vb.net',\n",
       " 'vba',\n",
       " 'visual-studio',\n",
       " 'visual-studio-2010',\n",
       " 'wcf',\n",
       " 'web-services',\n",
       " 'windows',\n",
       " 'winforms',\n",
       " 'wordpress',\n",
       " 'wpf',\n",
       " 'xaml',\n",
       " 'xcode',\n",
       " 'xml']"
      ]
     },
     "execution_count": 88,
     "metadata": {},
     "output_type": "execute_result"
    }
   ],
   "source": [
    "dataset_train.class_names"
   ]
  },
  {
   "cell_type": "code",
   "execution_count": 92,
   "metadata": {},
   "outputs": [
    {
     "data": {
      "image/png": "[encoded data removed]",
      "text/plain": [
       "<Figure size 1400x100 with 1 Axes>"
      ]
     },
     "metadata": {},
     "output_type": "display_data"
    },
    {
     "data": {
      "image/png": "[encoded data removed]",
      "text/plain": [
       "<Figure size 1400x100 with 1 Axes>"
      ]
     },
     "metadata": {},
     "output_type": "display_data"
    }
   ],
   "source": [
    "plt.figure(figsize=(14,1))\n",
    "plt.plot(history.history['loss'], label='loss')\n",
    "plt.plot(history.history['val_loss'], label='val_loss')\n",
    "plt.legend()\n",
    "plt.show()\n",
    "plt.figure(figsize=(14,1))\n",
    "plt.plot(history.history['accuracy'], label='accuracy')\n",
    "plt.plot(history.history['val_accuracy'], label='val_accuracy')\n",
    "plt.legend()\n",
    "plt.show()"
   ]
  },
  {
   "cell_type": "code",
   "execution_count": 91,
   "metadata": {},
   "outputs": [
    {
     "name": "stderr",
     "output_type": "stream",
     "text": [
      "2023-06-07 16:51:24.253585: I tensorflow/core/common_runtime/executor.cc:1197] [/device:CPU:0] (DEBUG INFO) Executor start aborting (this does not indicate an error and you can ignore this message): INVALID_ARGUMENT: You must feed a value for placeholder tensor 'input_21' with dtype string and shape [?,1]\n",
      "\t [[{{node input_21}}]]\n",
      "2023-06-07 16:51:24.288877: I tensorflow/core/common_runtime/executor.cc:1197] [/device:CPU:0] (DEBUG INFO) Executor start aborting (this does not indicate an error and you can ignore this message): INVALID_ARGUMENT: You must feed a value for placeholder tensor 'input_21' with dtype string and shape [?,1]\n",
      "\t [[{{node input_21}}]]\n",
      "2023-06-07 16:51:24.297015: I tensorflow/core/common_runtime/executor.cc:1197] [/device:CPU:0] (DEBUG INFO) Executor start aborting (this does not indicate an error and you can ignore this message): INVALID_ARGUMENT: You must feed a value for placeholder tensor 'inputs' with dtype float and shape [?,128,16]\n",
      "\t [[{{node inputs}}]]\n",
      "2023-06-07 16:51:24.314070: I tensorflow/core/common_runtime/executor.cc:1197] [/device:CPU:0] (DEBUG INFO) Executor start aborting (this does not indicate an error and you can ignore this message): INVALID_ARGUMENT: You must feed a value for placeholder tensor 'inputs' with dtype string and shape [?,1]\n",
      "\t [[{{node inputs}}]]\n",
      "2023-06-07 16:51:24.322192: I tensorflow/core/common_runtime/executor.cc:1197] [/device:CPU:0] (DEBUG INFO) Executor start aborting (this does not indicate an error and you can ignore this message): INVALID_ARGUMENT: You must feed a value for placeholder tensor 'inputs' with dtype string and shape [?,1]\n",
      "\t [[{{node inputs}}]]\n",
      "2023-06-07 16:51:24.369285: I tensorflow/core/common_runtime/executor.cc:1197] [/device:CPU:0] (DEBUG INFO) Executor start aborting (this does not indicate an error and you can ignore this message): INVALID_ARGUMENT: You must feed a value for placeholder tensor 'input_21' with dtype string and shape [?,1]\n",
      "\t [[{{node input_21}}]]\n",
      "2023-06-07 16:51:24.408954: I tensorflow/core/common_runtime/executor.cc:1197] [/device:CPU:0] (DEBUG INFO) Executor start aborting (this does not indicate an error and you can ignore this message): INVALID_ARGUMENT: You must feed a value for placeholder tensor 'inputs' with dtype string and shape [?,1]\n",
      "\t [[{{node inputs}}]]\n",
      "2023-06-07 16:51:24.416587: I tensorflow/core/common_runtime/executor.cc:1197] [/device:CPU:0] (DEBUG INFO) Executor start aborting (this does not indicate an error and you can ignore this message): INVALID_ARGUMENT: You must feed a value for placeholder tensor 'inputs' with dtype string and shape [?,1]\n",
      "\t [[{{node inputs}}]]\n",
      "2023-06-07 16:51:24.548723: I tensorflow/core/common_runtime/executor.cc:1197] [/device:CPU:0] (DEBUG INFO) Executor start aborting (this does not indicate an error and you can ignore this message): INVALID_ARGUMENT: You must feed a value for placeholder tensor 'inputs' with dtype float and shape [?,128,16]\n",
      "\t [[{{node inputs}}]]\n",
      "WARNING:absl:Found untraced functions such as _update_step_xla, _jit_compiled_convolution_op while saving (showing 2 of 2). These functions will not be directly callable after loading.\n"
     ]
    },
    {
     "name": "stdout",
     "output_type": "stream",
     "text": [
      "INFO:tensorflow:Assets written to: inhouse/assets\n"
     ]
    },
    {
     "name": "stderr",
     "output_type": "stream",
     "text": [
      "2023-06-07 16:51:24.750845: I tensorflow/core/common_runtime/executor.cc:1197] [/device:CPU:0] (DEBUG INFO) Executor start aborting (this does not indicate an error and you can ignore this message): INVALID_ARGUMENT: You must feed a value for placeholder tensor 'serving_default_input_21' with dtype string and shape [?,1]\n",
      "\t [[{{node serving_default_input_21}}]]\n",
      "INFO:tensorflow:Assets written to: inhouse/assets\n"
     ]
    }
   ],
   "source": [
    "# Acabei por nao ter treinado o modelo diversas vezes por conta de tempo\n",
    "clf_classifier.save(\"inhouse\")"
   ]
  }
 ],
 "metadata": {
  "kernelspec": {
   "display_name": "env",
   "language": "python",
   "name": "python3"
  },
  "language_info": {
   "codemirror_mode": {
    "name": "ipython",
    "version": 3
   },
   "file_extension": ".py",
   "mimetype": "text/x-python",
   "name": "python",
   "nbconvert_exporter": "python",
   "pygments_lexer": "ipython3",
   "version": "3.8.10"
  },
  "orig_nbformat": 4
 },
 "nbformat": 4,
 "nbformat_minor": 2
}
